{
 "cells": [
  {
   "cell_type": "code",
   "execution_count": null,
   "metadata": {},
   "outputs": [],
   "source": [
    "##Q1 : In the below elements which of them are values or an expression?\n",
    "## *, \"hello\", -87.8, -,/,+,6\n",
    "\n",
    "\n",
    "Answer : \n",
    "    \n",
    "In the given elements, \n",
    "    \n",
    "Values are  :  \"hello\"  , -87.8 , 6\n",
    "        \n",
    "Expressions are : * , - , /  , +\n",
    "        "
   ]
  },
  {
   "cell_type": "code",
   "execution_count": null,
   "metadata": {},
   "outputs": [],
   "source": [
    "##Q2 : What is the difference between String and Variable?\n",
    "\n",
    "Answer :\n",
    "    \n",
    "String   : *String is a sequence of characters that can be alphabets, numbers, punctuations, spaces.\n",
    "    \n",
    "           *String should be defined with either a single quote (' ') or double quotes (\" \") .\n",
    "           \n",
    "           * String is an immutable object. Once defined, they cannot be changed.\n",
    "    \n",
    "    \n",
    "Variable : * Variables can be delared by any name or alphabets like a ,b, frgrsgs etc.\n",
    "    \n",
    "           * Variables can have a number like test5.\n",
    "    \n",
    "           * Think of it as a name that can refer to any value.\n",
    "    \n",
    "           * We use variable to store a value in a memory location and to manipulate it if needed.\n",
    "    "
   ]
  },
  {
   "cell_type": "code",
   "execution_count": null,
   "metadata": {},
   "outputs": [],
   "source": [
    "##Q3 : Describe three different data types ?\n",
    "\n",
    "\n",
    "\n",
    "Answer : type() function is used to determine the type of data type.\n",
    "    \n",
    "1.Boolean data type : Boolean is a Data type with one of the two built-in values, True or False.\n",
    "                      By default the value of True is always 1 and the value of the False is always 0.\n",
    "                      True and False with capital ‘T’ and ‘F’ are valid booleans.\n",
    "    \n",
    "    \n",
    "    \n",
    "2.List data type :  list data type contains items separated by commas within square brackets ([]).\n",
    "                    It can have any number of items and they may be of different types (string, integer, boolean.. etc.).\n",
    "                    A list can even have another list as an item. This is called nested list.\n",
    "            \n",
    "            \n",
    "            \n",
    "3.Numeric data type : Numeric data type represent the data which has numeric value. \n",
    "                      Numeric value can be integer(int), floating number(float) or complex number(complex).\n",
    "\n"
   ]
  },
  {
   "cell_type": "code",
   "execution_count": null,
   "metadata": {},
   "outputs": [],
   "source": [
    "##Q4 : What is an expression made up of? What do all expressions do?\n",
    "\n",
    "Answer :  An expression is a combination of values, variables and operators.\n",
    "          Expressions can have operations like addition, subtraction, multiplication or division.\n",
    "          By using Expressions we can always evaluate (that is, reduce) multiple values down to a single value. \n",
    "          For ex : Two values (5 + 10) can be reduced to a single value (15).In expression you will always get a value."
   ]
  },
  {
   "cell_type": "code",
   "execution_count": null,
   "metadata": {},
   "outputs": [],
   "source": [
    "##Q5 : This assignment statements, like spam = 10. What is the difference between an expression and a statement?\n",
    "\n",
    "Answer : A statement is a complete line of code that performs some action, \n",
    "         while an expression is any section of the code that evaluates to a value.\n",
    "         The main difference between 'expression' and a 'statement' is : Expression returns a value which can be printed on the screen while \n",
    "         a statement is a line of code that will not print any value onto the screen. \n",
    "            \n",
    "        For ex: spam = 10 is a statement which cannot be printed unless you print it where as 2 + 2 will print the answer 4.\n",
    "        "
   ]
  },
  {
   "cell_type": "code",
   "execution_count": 1,
   "metadata": {},
   "outputs": [
    {
     "data": {
      "text/plain": [
       "23"
      ]
     },
     "execution_count": 1,
     "metadata": {},
     "output_type": "execute_result"
    }
   ],
   "source": [
    "##Q6 : After running the following code, what does the variable bacon contain?\n",
    "bacon = 22\n",
    "bacon + 1\n",
    "\n",
    "Answer : bacon value will remain same(22) even after running the code, because We are not assigning a new variable to bacon.\n",
    "         "
   ]
  },
  {
   "cell_type": "code",
   "execution_count": 2,
   "metadata": {},
   "outputs": [
    {
     "data": {
      "text/plain": [
       "22"
      ]
     },
     "execution_count": 2,
     "metadata": {},
     "output_type": "execute_result"
    }
   ],
   "source": [
    "bacon"
   ]
  },
  {
   "cell_type": "code",
   "execution_count": 3,
   "metadata": {},
   "outputs": [
    {
     "data": {
      "text/plain": [
       "'spamspamspam'"
      ]
     },
     "execution_count": 3,
     "metadata": {},
     "output_type": "execute_result"
    }
   ],
   "source": [
    "##Q7 : What should the values of the following two terms be?\n",
    "'spam' + 'spamspam'\n",
    "'spam' * 3\n",
    "\n",
    "Answer : The answer will be same for both of the terms which is 'spamspamspam'."
   ]
  },
  {
   "cell_type": "code",
   "execution_count": 4,
   "metadata": {},
   "outputs": [
    {
     "data": {
      "text/plain": [
       "'spamspamspam'"
      ]
     },
     "execution_count": 4,
     "metadata": {},
     "output_type": "execute_result"
    }
   ],
   "source": [
    "'spam' + 'spamspam'"
   ]
  },
  {
   "cell_type": "code",
   "execution_count": 5,
   "metadata": {},
   "outputs": [
    {
     "data": {
      "text/plain": [
       "'spamspamspam'"
      ]
     },
     "execution_count": 5,
     "metadata": {},
     "output_type": "execute_result"
    }
   ],
   "source": [
    "'spam' * 3"
   ]
  },
  {
   "cell_type": "code",
   "execution_count": null,
   "metadata": {},
   "outputs": [],
   "source": [
    "##Q8 : Why is eggs a valid variable name while 100 is invalid? \n",
    "\n",
    "Answer : Variables can be delared by any name or alphabets like a ,b, frgrsgs etc.\n",
    "         Variable names are only names not the values. Since' 100 ' is a value it is not a valid variable,\n",
    "         where as 'eggs'is a name not a value so it is a valid variable."
   ]
  },
  {
   "cell_type": "code",
   "execution_count": null,
   "metadata": {},
   "outputs": [],
   "source": [
    "##Q9 : What three functions can be used to get the integer, floating-point number, or string version of a value?\n",
    "\n",
    "Answer : Integer : int()\n",
    "         Floating-point number : float()\n",
    "         String : str()\n"
   ]
  },
  {
   "cell_type": "code",
   "execution_count": null,
   "metadata": {},
   "outputs": [],
   "source": [
    "##Q10 : Why does this expression cause an error? How can you fix it? \n",
    "'I have eaten '+99+'burritos'.\n",
    "\n",
    "Answer : if we run this expression we will get following error : \"can only concatenate str (not \"int\") to str\",\n",
    "        which means we can not concatenate a string and an integer.In our expression '99' is an number.\n",
    "        The correct expression would be : 'I have eaten'+' 99 '+'burritos.'\n"
   ]
  },
  {
   "cell_type": "code",
   "execution_count": 3,
   "metadata": {},
   "outputs": [
    {
     "ename": "TypeError",
     "evalue": "can only concatenate str (not \"int\") to str",
     "output_type": "error",
     "traceback": [
      "\u001b[1;31m---------------------------------------------------------------------------\u001b[0m",
      "\u001b[1;31mTypeError\u001b[0m                                 Traceback (most recent call last)",
      "\u001b[1;32m<ipython-input-3-c454a051457d>\u001b[0m in \u001b[0;36m<module>\u001b[1;34m\u001b[0m\n\u001b[1;32m----> 1\u001b[1;33m \u001b[1;34m'I have eaten '\u001b[0m\u001b[1;33m+\u001b[0m\u001b[1;36m99\u001b[0m\u001b[1;33m+\u001b[0m\u001b[1;34m'burritos.'\u001b[0m\u001b[1;33m\u001b[0m\u001b[1;33m\u001b[0m\u001b[0m\n\u001b[0m",
      "\u001b[1;31mTypeError\u001b[0m: can only concatenate str (not \"int\") to str"
     ]
    }
   ],
   "source": [
    "'I have eaten '+99+'burritos.'"
   ]
  },
  {
   "cell_type": "code",
   "execution_count": 4,
   "metadata": {},
   "outputs": [
    {
     "data": {
      "text/plain": [
       "'I have eaten 99 burritos.'"
      ]
     },
     "execution_count": 4,
     "metadata": {},
     "output_type": "execute_result"
    }
   ],
   "source": [
    "'I have eaten'+' 99 '+'burritos.'"
   ]
  },
  {
   "cell_type": "code",
   "execution_count": null,
   "metadata": {},
   "outputs": [],
   "source": []
  }
 ],
 "metadata": {
  "kernelspec": {
   "display_name": "Python 3",
   "language": "python",
   "name": "python3"
  },
  "language_info": {
   "codemirror_mode": {
    "name": "ipython",
    "version": 3
   },
   "file_extension": ".py",
   "mimetype": "text/x-python",
   "name": "python",
   "nbconvert_exporter": "python",
   "pygments_lexer": "ipython3",
   "version": "3.8.5"
  }
 },
 "nbformat": 4,
 "nbformat_minor": 4
}
